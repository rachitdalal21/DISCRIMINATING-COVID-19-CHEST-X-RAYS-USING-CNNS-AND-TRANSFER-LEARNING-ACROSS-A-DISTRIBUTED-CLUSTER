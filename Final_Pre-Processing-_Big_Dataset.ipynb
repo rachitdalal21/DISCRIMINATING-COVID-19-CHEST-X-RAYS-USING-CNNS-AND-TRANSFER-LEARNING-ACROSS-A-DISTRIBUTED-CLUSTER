{
 "cells": [
  {
   "cell_type": "code",
   "execution_count": 12,
   "metadata": {},
   "outputs": [
    {
     "data": {
      "text/plain": [
       "['CenterCrop',\n",
       " 'ColorJitter',\n",
       " 'Compose',\n",
       " 'FiveCrop',\n",
       " 'Grayscale',\n",
       " 'Lambda',\n",
       " 'LinearTransformation',\n",
       " 'Normalize',\n",
       " 'Pad',\n",
       " 'RandomAffine',\n",
       " 'RandomApply',\n",
       " 'RandomChoice',\n",
       " 'RandomCrop',\n",
       " 'RandomErasing',\n",
       " 'RandomGrayscale',\n",
       " 'RandomHorizontalFlip',\n",
       " 'RandomOrder',\n",
       " 'RandomPerspective',\n",
       " 'RandomResizedCrop',\n",
       " 'RandomRotation',\n",
       " 'RandomSizedCrop',\n",
       " 'RandomVerticalFlip',\n",
       " 'Resize',\n",
       " 'Scale',\n",
       " 'TenCrop',\n",
       " 'ToPILImage',\n",
       " 'ToTensor',\n",
       " '__builtins__',\n",
       " '__cached__',\n",
       " '__doc__',\n",
       " '__file__',\n",
       " '__loader__',\n",
       " '__name__',\n",
       " '__package__',\n",
       " '__path__',\n",
       " '__spec__',\n",
       " 'functional',\n",
       " 'transforms']"
      ]
     },
     "execution_count": 12,
     "metadata": {},
     "output_type": "execute_result"
    }
   ],
   "source": [
    "import skimage \n",
    "from skimage import data\n",
    "\n",
    "import numpy as np\n",
    "import pandas as pd\n",
    "\n",
    "import matplotlib.pyplot as plt\n",
    "import matplotlib.image as mpimg\n",
    "\n",
    "import torch\n",
    "import torchvision\n",
    "import torchvision.transforms as transforms\n",
    "\n",
    "from torchvision import datasets\n",
    "#dir(transforms)"
   ]
  },
  {
   "cell_type": "code",
   "execution_count": 27,
   "metadata": {},
   "outputs": [],
   "source": [
    "data_csv = pd.read_csv('./Data_Entry_2017.csv')\n",
    "\n",
    "#col_one_list = data_csv[data_csv['Finding Labels'].eq('Cardiomegaly')]\n",
    "#Cardiomegaly_list = col_one_list['Image Index'].values.tolist()\n",
    "#len(Cardiomegaly_list)\n",
    "\n",
    "total_disease_list = ['Cardiomegaly', 'No Finding', 'Nodule', 'Emphysema', 'Effusion', 'Infiltration',\n",
    "                     'Hernia', 'Mass', 'Fibrosis', 'Pleural_Thickening', 'Consolidation',\n",
    "                     'Pneumothorax', 'Atelectasis', 'Edema', 'Pneumonia']\n",
    "\n",
    "\n",
    "image_list = {}\n",
    "sum = 0\n",
    "\n",
    "for disease in total_disease_list:\n",
    "    col_one_list = data_csv[data_csv['Finding Labels'].eq(disease)]\n",
    "    image_list[disease] = col_one_list['Image Index'].values.tolist()\n",
    "    #sum = sum + len(image_list[disease])\n",
    "    #print(\"Disease Name: \", disease)\n",
    "    #print(\"Total Value Per Each Disease: \", len(image_list[disease]))\n",
    "    \n",
    "#print(\"Total : \", sum)\n",
    "\n",
    "def getLabel( image_name, dict_image_list ):\n",
    "    MULTI = 14\n",
    "    for i, (key, value) in enumerate(dict_image_list.items()):\n",
    "        for img_name in value:\n",
    "            if( img_name == image_name ):\n",
    "                return i\n",
    "            \n",
    "    return MULTI\n",
    "\n",
    "#print(\"Datat : \", image_list)\n",
    "            \n",
    "#label = getLabel('00001941_007.png', image_list ) \n",
    "#label\n",
    "\n",
    "\n",
    "#data_to_exclude = ['00000001_000.png']\n",
    "\n",
    "\n",
    "class ImageFolderWithPaths(datasets.ImageFolder):\n",
    "    \"\"\"Custom dataset that includes image file paths. Extends\n",
    "    torchvision.datasets.ImageFolder\n",
    "    \"\"\"\n",
    "    #print(\"path : \")\n",
    "    # override the __getitem__ method. this is the method that dataloader calls\n",
    "    def __getitem__(self, index):\n",
    "        #print(\"inside : \")\n",
    "        # this is what ImageFolder normally returns \n",
    "        original_tuple = super(ImageFolderWithPaths, self).__getitem__(index)\n",
    "        # the image file path\n",
    "        path = self.imgs[index][0]\n",
    "        label = getLabel(path.split('/')[-1], image_list)\n",
    "        #if( path.split('/')[-1] not in data_to_exclude ):\n",
    "            #print(\"path : \", path)\n",
    "            #print(\"Original tuple : \", original_tuple)\n",
    "            # make a new tuple that includes original and the path\n",
    "        tuple_with_path = (original_tuple+ (label,))\n",
    "        return tuple_with_path"
   ]
  },
  {
   "cell_type": "code",
   "execution_count": 28,
   "metadata": {},
   "outputs": [],
   "source": [
    "size_1 = (512,512)\n",
    "size_2 = (256,256)\n",
    "batch_size = 5\n",
    "num_workers = 2"
   ]
  },
  {
   "cell_type": "code",
   "execution_count": 29,
   "metadata": {},
   "outputs": [],
   "source": [
    "transform = transforms.Compose([\n",
    "    transforms.Resize(size=size_1),\n",
    "    transforms.ToTensor()\n",
    "])"
   ]
  },
  {
   "cell_type": "code",
   "execution_count": 31,
   "metadata": {},
   "outputs": [
    {
     "data": {
      "text/plain": [
       "Dataset ImageFolderWithPaths\n",
       "    Number of datapoints: 15\n",
       "    Root location: cs535-Image/images/\n",
       "    StandardTransform\n",
       "Transform: Compose(\n",
       "               Resize(size=(512, 512), interpolation=PIL.Image.BILINEAR)\n",
       "               ToTensor()\n",
       "           )"
      ]
     },
     "execution_count": 31,
     "metadata": {},
     "output_type": "execute_result"
    }
   ],
   "source": [
    "data_dir = 'cs535-Image/images/'\n",
    "dataset = ImageFolderWithPaths(root= data_dir,transform = transform) # our custom dataset\n",
    "dataloader_1 = torch.utils.data.DataLoader(dataset,\n",
    "                                        batch_size=batch_size,\n",
    "                                        shuffle=True,\n",
    "                                        num_workers=num_workers)\n",
    "\n",
    "\n",
    "dataset\n",
    "\n"
   ]
  },
  {
   "cell_type": "code",
   "execution_count": 35,
   "metadata": {},
   "outputs": [
    {
     "data": {
      "text/plain": [
       "(torch.Size([5, 3, 512, 512]),\n",
       " tensor([0, 0, 0, 0, 0]),\n",
       " tensor([ 1,  6,  1, 14,  6]))"
      ]
     },
     "execution_count": 35,
     "metadata": {},
     "output_type": "execute_result"
    }
   ],
   "source": [
    "image_batch, labels_batch, labels = iter(dataloader_1).next()\n",
    "image_batch.shape, labels_batch, labels"
   ]
  },
  {
   "cell_type": "code",
   "execution_count": 33,
   "metadata": {},
   "outputs": [
    {
     "data": {
      "text/plain": [
       "torch.Size([3, 516, 2572])"
      ]
     },
     "execution_count": 33,
     "metadata": {},
     "output_type": "execute_result"
    }
   ],
   "source": [
    "img = torchvision.utils.make_grid(image_batch)\n",
    "\n",
    "img.shape"
   ]
  },
  {
   "cell_type": "code",
   "execution_count": null,
   "metadata": {},
   "outputs": [],
   "source": [
    "img_1 = np.transpose(img, (1,2,0))\n",
    "img_1.shape"
   ]
  },
  {
   "cell_type": "code",
   "execution_count": null,
   "metadata": {},
   "outputs": [],
   "source": [
    "plt.figure(figsize=(32,24))\n",
    "\n",
    "plt.imshow(img_1)\n",
    "plt.axis('off')\n",
    "plt.show()"
   ]
  },
  {
   "cell_type": "code",
   "execution_count": null,
   "metadata": {},
   "outputs": [],
   "source": [
    "\n",
    "pop_mean = []\n",
    "pop_std = []\n",
    "\n",
    "\n",
    "\n",
    "for i, data in enumerate(dataloader_1):\n",
    "    #Extract Images at field position 0: \n",
    "    #print(\"batch Count: \", i)\n",
    "    numpy_image = data[0].numpy()\n",
    "    #print(\"batch Count:numpy_image\", numpy_image.shape)\n",
    "    # axis=(0,2,3) => (B, H, W)\n",
    "    batch_mean = np.mean(numpy_image, axis=(0,2,3))\n",
    "    batch_std = np.std(numpy_image, axis=(0,2,3))\n",
    "    #batch_mean = np.mean(numpy_image)\n",
    "    #batch_std = np.std(numpy_image)\n",
    "    \n",
    "    pop_mean.append(batch_mean)\n",
    "    pop_std.append(batch_std)"
   ]
  },
  {
   "cell_type": "code",
   "execution_count": null,
   "metadata": {},
   "outputs": [],
   "source": [
    "\n",
    "pop_mean = np.array(pop_mean)\n",
    "pop_std = np.array(pop_std)\n",
    "\n",
    "# (Total Batchs, ( Mean_Value , Std_Value ) => For each channel )\n",
    "pop_mean.shape, pop_std.shape "
   ]
  },
  {
   "cell_type": "code",
   "execution_count": null,
   "metadata": {},
   "outputs": [],
   "source": [
    "# DO NOT RUN - Original Version -> Already Done At the top\n",
    "\n",
    "pop_mean = pop_mean.mean(axis =0 )\n",
    "pop_std = pop_std.mean(axis =0 )\n",
    "\n",
    "# To Print MEAN across all the batches and standard Deviation\n",
    "\n",
    "print(\"Mean across all the batches: \",pop_mean)\n",
    "print(\"standard Deviation across all the batches: \",pop_std)"
   ]
  },
  {
   "cell_type": "code",
   "execution_count": null,
   "metadata": {},
   "outputs": [],
   "source": [
    "pop_mean, pop_std"
   ]
  },
  {
   "cell_type": "code",
   "execution_count": null,
   "metadata": {},
   "outputs": [],
   "source": [
    "transform = transforms.Compose([\n",
    "    transforms.Resize(size=size_2),\n",
    "    transforms.Grayscale(3),\n",
    "    transforms.ToTensor()\n",
    "])\n",
    "\n",
    "\n",
    "#transforms.Normalize(mean=pop_mean,\n",
    "#                         std=pop_std)"
   ]
  },
  {
   "cell_type": "code",
   "execution_count": null,
   "metadata": {},
   "outputs": [],
   "source": [
    "dataset_train = torchvision.datasets.ImageFolder(root='cs535-Image/Covid-Dataset/dataset/', transform = transform)\n",
    "dataset_train"
   ]
  },
  {
   "cell_type": "code",
   "execution_count": null,
   "metadata": {},
   "outputs": [],
   "source": [
    "# LABELS\n",
    "\n",
    "dataset_train.class_to_idx, dataset_train.classes"
   ]
  },
  {
   "cell_type": "code",
   "execution_count": null,
   "metadata": {},
   "outputs": [],
   "source": [
    "train_set, val_set, test_set = torch.utils.data.random_split(dataset, [60, 20, 18])\n"
   ]
  },
  {
   "cell_type": "code",
   "execution_count": null,
   "metadata": {},
   "outputs": [],
   "source": [
    "print(len(train_set))\n",
    "print(len(val_set))\n",
    "print(len(test_set))"
   ]
  },
  {
   "cell_type": "code",
   "execution_count": null,
   "metadata": {},
   "outputs": [],
   "source": [
    "dataloader = torch.utils.data.DataLoader(train_set,\n",
    "                                        batch_size=5,\n",
    "                                        shuffle=False,\n",
    "                                        num_workers=2)\n",
    "\n",
    "\n",
    "dataloader"
   ]
  },
  {
   "cell_type": "code",
   "execution_count": null,
   "metadata": {},
   "outputs": [],
   "source": [
    "image_batch, label_batch = iter(dataloader).next()\n",
    "image_batch.shape"
   ]
  },
  {
   "cell_type": "code",
   "execution_count": null,
   "metadata": {},
   "outputs": [],
   "source": [
    "img = torchvision.utils.make_grid(image_batch,nrow=5)"
   ]
  },
  {
   "cell_type": "code",
   "execution_count": null,
   "metadata": {},
   "outputs": [],
   "source": [
    "img = np.transpose(img, (1,2,0))\n",
    "img.shape"
   ]
  },
  {
   "cell_type": "code",
   "execution_count": null,
   "metadata": {},
   "outputs": [],
   "source": [
    "m, M = img.min(), img.max()\n",
    "\n",
    "m, M"
   ]
  },
  {
   "cell_type": "code",
   "execution_count": null,
   "metadata": {},
   "outputs": [],
   "source": [
    "#img = (1 / abs(m) * M ) * img + 0.3"
   ]
  },
  {
   "cell_type": "code",
   "execution_count": null,
   "metadata": {},
   "outputs": [],
   "source": [
    "\n",
    "\n",
    "plt.figure(figsize=(16, 12))\n",
    "\n",
    "plt.imshow(img)\n",
    "plt.show()"
   ]
  },
  {
   "cell_type": "code",
   "execution_count": null,
   "metadata": {},
   "outputs": [],
   "source": []
  },
  {
   "cell_type": "code",
   "execution_count": null,
   "metadata": {},
   "outputs": [],
   "source": []
  }
 ],
 "metadata": {
  "kernelspec": {
   "display_name": "Python 3",
   "language": "python",
   "name": "python3"
  },
  "language_info": {
   "codemirror_mode": {
    "name": "ipython",
    "version": 3
   },
   "file_extension": ".py",
   "mimetype": "text/x-python",
   "name": "python",
   "nbconvert_exporter": "python",
   "pygments_lexer": "ipython3",
   "version": "3.7.4"
  }
 },
 "nbformat": 4,
 "nbformat_minor": 2
}
